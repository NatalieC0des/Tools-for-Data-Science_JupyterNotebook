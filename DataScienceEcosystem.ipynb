{
 "cells": [
  {
   "cell_type": "markdown",
   "id": "92d35d80-052c-440c-b617-3d5e04433f11",
   "metadata": {},
   "source": [
    "# Data Science Tools and Ecosystem"
   ]
  },
  {
   "cell_type": "markdown",
   "id": "f8abc976-4dc8-4013-ab79-48827b35e5fe",
   "metadata": {},
   "source": [
    "In this notebook, I will summarize various Data Science tools and Ecosystems."
   ]
  },
  {
   "cell_type": "markdown",
   "id": "51983ac1-401c-4e89-876c-55227347a7ed",
   "metadata": {},
   "source": [
    "***Objectives***\n",
    "- List popular languages for Data Science\n",
    "- List commonly used libraries for Data Science\n",
    "- List Data Science Tools"
   ]
  },
  {
   "cell_type": "markdown",
   "id": "28069d4e-c9ad-4edc-9558-6350d1a6bd75",
   "metadata": {},
   "source": [
    "Some examples of popular languages that Data Scientists use are:\n",
    "1. R\n",
    "2. Python\n",
    "3. SQL"
   ]
  },
  {
   "cell_type": "markdown",
   "id": "34d6eee7-e4a2-424b-9bd7-4055cb117b38",
   "metadata": {},
   "source": [
    "Some examples of commonly used libraries used by Data Scientists are:\n",
    "1. NumPy\n",
    "2. Pandas\n",
    "3. Matplotlib\n",
    "4. Plotly\n",
    "5. Scikit-Learn"
   ]
  },
  {
   "cell_type": "markdown",
   "id": "3afd7189-ab39-4f83-8ebb-4ff0b028b799",
   "metadata": {},
   "source": [
    "| Data Science Tools |\n",
    "| ------------------ |\n",
    "| Jupyter Notebook |\n",
    "| R Studio |\n",
    "| Visual Studio Code |\n"
   ]
  },
  {
   "cell_type": "markdown",
   "id": "eb9b7c1f-ffcc-48c8-a34a-3c34ec107dd8",
   "metadata": {},
   "source": [
    "### Below are some examples of evaluating arithmetic expressions using Python."
   ]
  },
  {
   "cell_type": "code",
   "execution_count": 3,
   "id": "b80ceda6-cf64-4d48-911d-948affac6d0d",
   "metadata": {},
   "outputs": [
    {
     "data": {
      "text/plain": [
       "17"
      ]
     },
     "execution_count": 3,
     "metadata": {},
     "output_type": "execute_result"
    }
   ],
   "source": [
    "# This is a simple arithmetic expression to multiply then add integers.\n",
    "(3*4)+5"
   ]
  },
  {
   "cell_type": "code",
   "execution_count": 2,
   "id": "0136b710-59f6-4d4a-af39-280d1705f45c",
   "metadata": {},
   "outputs": [
    {
     "name": "stdout",
     "output_type": "stream",
     "text": [
      "3.3333333333333335\n"
     ]
    }
   ],
   "source": [
    "# This will convert 200 minutes to hours by dividing by 60.\n",
    "hours = 200/60\n",
    "print(hours)"
   ]
  },
  {
   "cell_type": "markdown",
   "id": "24be6f88-181f-48be-b754-0a9180bb0636",
   "metadata": {},
   "source": [
    "## Author\n",
    "Natalie"
   ]
  },
  {
   "cell_type": "code",
   "execution_count": null,
   "id": "e7107782-1d1a-4592-bd38-674b15ef4e2d",
   "metadata": {},
   "outputs": [],
   "source": []
  }
 ],
 "metadata": {
  "kernelspec": {
   "display_name": "Python 3 (ipykernel)",
   "language": "python",
   "name": "python3"
  },
  "language_info": {
   "codemirror_mode": {
    "name": "ipython",
    "version": 3
   },
   "file_extension": ".py",
   "mimetype": "text/x-python",
   "name": "python",
   "nbconvert_exporter": "python",
   "pygments_lexer": "ipython3",
   "version": "3.11.9"
  }
 },
 "nbformat": 4,
 "nbformat_minor": 5
}
